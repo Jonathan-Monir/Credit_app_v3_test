{
 "cells": [
  {
   "cell_type": "code",
   "execution_count": 3,
   "metadata": {},
   "outputs": [],
   "source": [
    "import pandas as pd\n",
    "from datetime import timedelta\n",
    "import json\n",
    "import warnings\n",
    "import numpy as np\n",
    "# Suppress all warnings\n",
    "warnings.filterwarnings(\"ignore\")\n",
    "\n",
    "# Your code that generates warnings\n"
   ]
  },
  {
   "cell_type": "code",
   "execution_count": 23,
   "metadata": {},
   "outputs": [],
   "source": [
    "Spo_dict = {\n",
    "        \"name\": [\n",
    "            \"SPO 07.12 TO 15.12 (1)\",\n",
    "            \"SPO 07.12 TO 15.12 (2)\",\n",
    "            \"SPO 18.12 TO 31.01\",\n",
    "            \"spo 01.03 to 07.03\",\n",
    "            \"SPO 14.03 TO 31.03\",\n",
    "            \"SPO 01.04 TO 15.04\",\n",
    "        ]\n",
    "}"
   ]
  },
  {
   "cell_type": "code",
   "execution_count": 24,
   "metadata": {},
   "outputs": [],
   "source": [
    "file_path = r\"D:\\vscoded\\Credit_App\\Credit_App\\test files\\jonathan.xlsx\"\n",
    "statment = pd.read_excel(file_path,sheet_name='statment')\n",
    "con = pd.read_excel(file_path,sheet_name= \"contract\")"
   ]
  },
  {
   "cell_type": "code",
   "execution_count": 25,
   "metadata": {},
   "outputs": [],
   "source": [
    "def invoice_optimizer(cell,invoice):\n",
    "    begin_date = invoice['first date'].iloc[0]\n",
    "    end_date = invoice['second date'].iloc[-1]\n",
    "    \n",
    "    arr = cell['Arrival']\n",
    "    dep = cell['Departure'] - timedelta(1)\n",
    "    code = cell['Rate code']\n",
    "\n",
    "    if begin_date > arr:\n",
    "        arr = begin_date\n",
    "    if end_date < dep:\n",
    "        dep = end_date\n",
    "    \n",
    "    date_range = con[(arr<=con[\"second date\"]) & (dep>=con[\"first date\"])]\n",
    "    empty_df = date_range.empty\n",
    "    \n",
    "    days = 0 \n",
    "    price = 0\n",
    "    \n",
    "    if not empty_df:\n",
    "        date_range['first date'].iloc[0] = arr\n",
    "        date_range['second date'].iloc[-1] = dep\n",
    "        \n",
    "        days = np.array((date_range['second date'] - date_range['first date']).dt.days)\n",
    "        price = np.array(date_range[cell['Rate code']])\n",
    "    \n",
    "    return days, price, arr, dep, empty_df"
   ]
  },
  {
   "cell_type": "code",
   "execution_count": 26,
   "metadata": {},
   "outputs": [],
   "source": [
    "def contract_removal(con, date1, date2,cell):\n",
    "    \n",
    "    arr = cell['Arrival']\n",
    "    dep = cell['Departure'] - timedelta(1)\n",
    "    code = cell['Rate code']\n",
    "    \n",
    "    con1 = con[(arr<=con[\"second date\"]) & (date1>=con[\"first date\"])]\n",
    "    con2 = con[(date2<=con[\"second date\"]) & (dep>=con[\"first date\"])]\n",
    "    \n",
    "    con1['first date'].iloc[0] = arr\n",
    "    con1['second date'].iloc[-1] = date1\n",
    "    \n",
    "    \n",
    "    con2['first date'].iloc[0] = date2\n",
    "    con2['second date'].iloc[-1] = dep\n",
    "    \n",
    "    result = pd.concat([con1, con2], axis=0)\n",
    "\n",
    "    \n",
    "    empty_df = result.empty\n",
    "    days = 0 \n",
    "    price = 0\n",
    "    \n",
    "    if not empty_df:\n",
    "        days = np.array((result['second date'] - result['first date']).dt.days)\n",
    "        price = np.array(result[cell['Rate code']])\n",
    "    return result\n",
    "    "
   ]
  },
  {
   "cell_type": "code",
   "execution_count": 27,
   "metadata": {},
   "outputs": [],
   "source": [
    "def append_and_pad(original_array, new_array):\n",
    "    if original_array.ndim == 1:\n",
    "        original_array = [original_array]\n",
    "    # Find the maximum length between the two arrays\n",
    "    max_length = max(len(original_array[0]), len(new_array))\n",
    "    \n",
    "    # Pad both arrays with zeros to match the maximum length\n",
    "    original_array_padded = np.pad(original_array, ((0, 0), (0, max_length - len(original_array[0]))), 'constant')\n",
    "    new_array_padded = np.pad(new_array, (0, max_length - len(new_array)), 'constant')\n",
    "    \n",
    "    # Stack the two arrays vertically\n",
    "    result = np.vstack((original_array_padded, new_array_padded))\n",
    "    \n",
    "    return result"
   ]
  },
  {
   "cell_type": "code",
   "execution_count": 28,
   "metadata": {},
   "outputs": [],
   "source": [
    "Spo_list = list()\n",
    "if len(Spo_dict[\"name\"]) > 0:\n",
    "    for spo_num in reversed(range(len(Spo_dict[\"name\"]))):\n",
    "        Spo_list.append(pd.read_excel(file_path,sheet_name=Spo_dict[\"name\"][spo_num]))\n"
   ]
  },
  {
   "cell_type": "code",
   "execution_count": null,
   "metadata": {},
   "outputs": [
    {
     "data": {
      "text/plain": [
       "0.10453581809997559"
      ]
     },
     "execution_count": 10,
     "metadata": {},
     "output_type": "execute_result"
    }
   ],
   "source": [
    "days = np.empty(0)\n",
    "price = np.empty(0)\n",
    "for guest in range(len(statment['Arrival'])):\n",
    "    spo_days = np.empty(0)\n",
    "    spo_price = np.zeros(0)\n",
    "    contract = False\n",
    "    if len(Spo_dict[\"name\"]) > 0:\n",
    "        for spo_num in range(len(Spo_list)):\n",
    "            \n",
    "            cell =  statment.iloc[guest,:]\n",
    "            SPO = Spo_list[spo_num] \n",
    "            threshold = 2\n",
    "            SPO = SPO.dropna(thresh=len(SPO.columns) - threshold + 1)\n",
    "            invoice_result = invoice_optimizer(cell,SPO)\n",
    "            \n",
    "            spo_days = np.append(spo_days,invoice_result[0])\n",
    "            spo_price = np.append(spo_price,invoice_result[1])\n",
    "            \n",
    "            date1 = invoice_result[2]\n",
    "            date2 = invoice_result[3]\n",
    "            \n",
    "            empty_df = invoice_result[4]\n",
    "            if isinstance(contract,bool):\n",
    "                contract = con\n",
    "        if not empty_df:\n",
    "            contract = contract_removal(contract,date1,date2,cell)\n",
    "    spo_days = np.append(spo_days,invoice_optimizer(cell,contract)[0])\n",
    "    spo_price = np.append(spo_price,invoice_optimizer(cell,contract)[1])\n",
    "    \n",
    "    days = append_and_pad(days,spo_days)\n",
    "    price = append_and_pad(price,spo_price)\n",
    "    \n",
    "        \n",
    "days = np.delete(days, 0, axis=0)\n",
    "price = np.delete(price, 0, axis=0)\n",
    "\n",
    "import time\n",
    "\n",
    "start_time = time.time()\n",
    "\n",
    "Total = list()\n",
    "for i in range(len(days)):\n",
    "    sum = 0\n",
    "    for j in range(len(days[i])):\n",
    "        sum = sum + (days[i][j] * price[i][j])\n",
    "    Total.append(sum)\n",
    "    \n",
    "end_time = time.time()\n",
    "\n",
    "# Calculate the execution time\n",
    "execution_time = end_time - start_time\n",
    "execution_time"
   ]
  },
  {
   "cell_type": "code",
   "execution_count": 29,
   "metadata": {},
   "outputs": [
    {
     "data": {
      "text/plain": [
       "0.0010035037994384766"
      ]
     },
     "execution_count": 29,
     "metadata": {},
     "output_type": "execute_result"
    }
   ],
   "source": [
    "start_time = time.time()\n",
    "\n",
    "\n",
    "TOTAL = np.sum(np.multiply(days,price),axis=1)\n",
    "\n",
    "\n",
    "end_time = time.time()\n",
    "\n",
    "# Calculate the execution time\n",
    "execution_time = end_time - start_time\n",
    "execution_time"
   ]
  },
  {
   "cell_type": "code",
   "execution_count": 30,
   "metadata": {},
   "outputs": [
    {
     "data": {
      "text/plain": [
       "array([29826.816,  1890.   ,  1152.   , ..., 29826.816, 29826.816,\n",
       "       29826.816])"
      ]
     },
     "execution_count": 30,
     "metadata": {},
     "output_type": "execute_result"
    }
   ],
   "source": [
    "TOTAL"
   ]
  },
  {
   "cell_type": "code",
   "execution_count": 270,
   "metadata": {},
   "outputs": [
    {
     "data": {
      "text/plain": [
       "945.0"
      ]
     },
     "execution_count": 270,
     "metadata": {},
     "output_type": "execute_result"
    }
   ],
   "source": [
    "np.dot(days[1],price[1].T)"
   ]
  }
 ],
 "metadata": {
  "kernelspec": {
   "display_name": "Python 3",
   "language": "python",
   "name": "python3"
  },
  "language_info": {
   "codemirror_mode": {
    "name": "ipython",
    "version": 3
   },
   "file_extension": ".py",
   "mimetype": "text/x-python",
   "name": "python",
   "nbconvert_exporter": "python",
   "pygments_lexer": "ipython3",
   "version": "3.10.9"
  },
  "orig_nbformat": 4
 },
 "nbformat": 4,
 "nbformat_minor": 2
}
